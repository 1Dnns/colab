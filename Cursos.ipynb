{
  "nbformat": 4,
  "nbformat_minor": 0,
  "metadata": {
    "colab": {
      "name": "Cursos.ipynb",
      "provenance": [],
      "authorship_tag": "ABX9TyOc4qKBTaYXncjiBfrKEmOO",
      "include_colab_link": true
    },
    "kernelspec": {
      "name": "python3",
      "display_name": "Python 3"
    },
    "language_info": {
      "name": "python"
    }
  },
  "cells": [
    {
      "cell_type": "markdown",
      "metadata": {
        "id": "view-in-github",
        "colab_type": "text"
      },
      "source": [
        "<a href=\"https://colab.research.google.com/github/1Dnns/colab/blob/main/Cursos.ipynb\" target=\"_parent\"><img src=\"https://colab.research.google.com/assets/colab-badge.svg\" alt=\"Open In Colab\"/></a>"
      ]
    },
    {
      "cell_type": "markdown",
      "source": [
        "#**cursos** \n",
        "####*por coursera*\n",
        "\n",
        "cursos por aprender durante el año"
      ],
      "metadata": {
        "id": "jKZ4tPl_1Gk9"
      }
    },
    {
      "cell_type": "markdown",
      "source": [
        "[Data science](https://www.coursera.org/professional-certificates/ibm-data-science) de IBM (certificado profesional de 11 meses)\n",
        "\n",
        "[aprendizaje automatico](https://www.coursera.org/learn/machine-learning) de Stanford (curso de 62Hrs)\n",
        "\n",
        "[deep learning](https://www.coursera.org/specializations/deep-learning) de Deeplearning.AI  (curso de especializacion de 5 meses)\n",
        "\n",
        "[SQL](https://www.coursera.org/specializations/learn-sql-basics-data-science) de UC Davis (universidad de california) (programa de especializacion de 4 meses)\n",
        "\n",
        "[Big Data](https://www.coursera.org/specializations/big-data-introduccion) de universidad autonoma de Barcelona (programa especializado de 6 meses)\n",
        "\n",
        "[Data Science](https://www.coursera.org/specializations/data-science-python) de universidad de michigan (programa especializado de 5 meses)\n",
        "\n",
        "[Databases and SQL for Data Science with Python](https://www.coursera.org/learn/sql-data-science) de IBM (curso de 39 hrs)"
      ],
      "metadata": {
        "id": "l8U3KZcIxffo"
      }
    },
    {
      "cell_type": "markdown",
      "source": [
        "#**aprender**\n",
        "\n",
        "1. ingles\n",
        "2. python for physicists"
      ],
      "metadata": {
        "id": "gkiwFIyf2Iv3"
      }
    }
  ]
}